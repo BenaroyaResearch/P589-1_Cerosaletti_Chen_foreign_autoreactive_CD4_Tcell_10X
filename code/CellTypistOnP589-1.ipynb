{
 "cells": [
  {
   "cell_type": "code",
   "execution_count": 1,
   "id": "a70dd45d",
   "metadata": {},
   "outputs": [
    {
     "name": "stderr",
     "output_type": "stream",
     "text": [
      "Fontconfig warning: ignoring UTF-8: not a valid region tag\n",
      "Matplotlib is building the font cache; this may take a moment.\n"
     ]
    }
   ],
   "source": [
    "import scanpy as sc\n",
    "import celltypist\n",
    "from celltypist import models\n",
    "import anndata\n",
    "import numpy as np"
   ]
  },
  {
   "cell_type": "code",
   "execution_count": 2,
   "id": "bcc2a0e8",
   "metadata": {},
   "outputs": [
    {
     "data": {
      "text/plain": [
       "'/Users/tedwards/.celltypist/data/models'"
      ]
     },
     "execution_count": 2,
     "metadata": {},
     "output_type": "execute_result"
    }
   ],
   "source": [
    "#Check models path\n",
    "models.models_path"
   ]
  },
  {
   "cell_type": "code",
   "execution_count": 4,
   "id": "fac9cde6",
   "metadata": {},
   "outputs": [],
   "source": [
    "model = models.Model.load(model = '84792154-cdfb-42d0-8e42-39e210e980b4_filesets_c5300f8b-f5ff-4010-9371-edc33d489143_ref_pbmc_clean_celltypist_model_AIFI_L3_2024-04-19.pkl')"
   ]
  },
  {
   "cell_type": "code",
   "execution_count": 3,
   "id": "933938cb",
   "metadata": {},
   "outputs": [],
   "source": [
    "counts_file_path = '/Users/tedwards/Documents/projects/P589-1_Cerosaletti_Chen_foreign_autoreactive_CD4_Tcell_10X/data/output/seuratP589AllCells.h5ad'\n"
   ]
  },
  {
   "cell_type": "code",
   "execution_count": 5,
   "id": "e5f0d739",
   "metadata": {},
   "outputs": [
    {
     "data": {
      "text/plain": [
       "(31803, 2000)"
      ]
     },
     "execution_count": 5,
     "metadata": {},
     "output_type": "execute_result"
    }
   ],
   "source": [
    "adata = anndata.read_h5ad(counts_file_path)\n",
    "adata.shape"
   ]
  },
  {
   "cell_type": "code",
   "execution_count": 9,
   "id": "7514a2b6",
   "metadata": {},
   "outputs": [],
   "source": [
    "# to address error: \"ValueError: `X_pca` does not have enough PCs. Rerun `sc.pp.pca` with adjusted `n_comps`.\"\n",
    "sc.pp.pca(adata, n_comps=50)"
   ]
  },
  {
   "cell_type": "code",
   "execution_count": 10,
   "id": "f8039872",
   "metadata": {},
   "outputs": [
    {
     "name": "stderr",
     "output_type": "stream",
     "text": [
      "👀 Invalid expression matrix in `.X`, expect log1p normalized expression to 10000 counts per cell; will use `.raw.X` instead\n",
      "🔬 Input data has 31803 cells and 21586 genes\n",
      "🔗 Matching reference genes in the model\n",
      "🧬 2306 features used for prediction\n",
      "⚖️ Scaling input data\n",
      "🖋️ Predicting labels\n",
      "✅ Prediction done!\n",
      "👀 Can not detect a neighborhood graph, will construct one before the over-clustering\n",
      "⛓️ Over-clustering input data with resolution set to 15\n",
      "🗳️ Majority voting the predictions\n",
      "✅ Majority voting done!\n"
     ]
    }
   ],
   "source": [
    "predictions = celltypist.annotate(adata, model = '84792154-cdfb-42d0-8e42-39e210e980b4_filesets_c5300f8b-f5ff-4010-9371-edc33d489143_ref_pbmc_clean_celltypist_model_AIFI_L3_2024-04-19.pkl', majority_voting = True)"
   ]
  },
  {
   "cell_type": "code",
   "execution_count": 11,
   "id": "ba5c4ba3",
   "metadata": {},
   "outputs": [
    {
     "data": {
      "text/html": [
       "<div>\n",
       "<style scoped>\n",
       "    .dataframe tbody tr th:only-of-type {\n",
       "        vertical-align: middle;\n",
       "    }\n",
       "\n",
       "    .dataframe tbody tr th {\n",
       "        vertical-align: top;\n",
       "    }\n",
       "\n",
       "    .dataframe thead th {\n",
       "        text-align: right;\n",
       "    }\n",
       "</style>\n",
       "<table border=\"1\" class=\"dataframe\">\n",
       "  <thead>\n",
       "    <tr style=\"text-align: right;\">\n",
       "      <th></th>\n",
       "      <th>predicted_labels</th>\n",
       "      <th>over_clustering</th>\n",
       "      <th>majority_voting</th>\n",
       "    </tr>\n",
       "  </thead>\n",
       "  <tbody>\n",
       "    <tr>\n",
       "      <th>1_AAACCAAAGACCCGCA-1</th>\n",
       "      <td>Memory CD4 Treg</td>\n",
       "      <td>131</td>\n",
       "      <td>ISG+ memory CD4 T cell</td>\n",
       "    </tr>\n",
       "    <tr>\n",
       "      <th>1_AAACCAAAGCATAATC-1</th>\n",
       "      <td>Memory CD4 Treg</td>\n",
       "      <td>68</td>\n",
       "      <td>GZMB- CD27- EM CD4 T cell</td>\n",
       "    </tr>\n",
       "    <tr>\n",
       "      <th>1_AAACCAGCAAACCTTA-1</th>\n",
       "      <td>CM CD4 T cell</td>\n",
       "      <td>10</td>\n",
       "      <td>CM CD4 T cell</td>\n",
       "    </tr>\n",
       "    <tr>\n",
       "      <th>1_AAACCAGCAGTCGGAG-1</th>\n",
       "      <td>GZMB- CD27- EM CD4 T cell</td>\n",
       "      <td>141</td>\n",
       "      <td>GZMB- CD27- EM CD4 T cell</td>\n",
       "    </tr>\n",
       "    <tr>\n",
       "      <th>1_AAACCATTCATAACAC-1</th>\n",
       "      <td>Memory CD4 Treg</td>\n",
       "      <td>2</td>\n",
       "      <td>GZMB- CD27- EM CD4 T cell</td>\n",
       "    </tr>\n",
       "    <tr>\n",
       "      <th>...</th>\n",
       "      <td>...</td>\n",
       "      <td>...</td>\n",
       "      <td>...</td>\n",
       "    </tr>\n",
       "    <tr>\n",
       "      <th>2_GTTGTGGGTAAGCGCC-1</th>\n",
       "      <td>Memory CD4 Treg</td>\n",
       "      <td>13</td>\n",
       "      <td>KLRB1+ memory CD4 Treg</td>\n",
       "    </tr>\n",
       "    <tr>\n",
       "      <th>2_GTTGTGGGTACATCCC-1</th>\n",
       "      <td>ISG+ memory CD8 T cell</td>\n",
       "      <td>97</td>\n",
       "      <td>ISG+ memory CD4 T cell</td>\n",
       "    </tr>\n",
       "    <tr>\n",
       "      <th>2_GTTGTGGGTATGCTCC-1</th>\n",
       "      <td>KLRB1+ memory CD4 Treg</td>\n",
       "      <td>50</td>\n",
       "      <td>Memory CD4 Treg</td>\n",
       "    </tr>\n",
       "    <tr>\n",
       "      <th>2_GTTGTGGGTCTGCGCC-1</th>\n",
       "      <td>ISG+ naive CD4 T cell</td>\n",
       "      <td>85</td>\n",
       "      <td>ISG+ memory CD4 T cell</td>\n",
       "    </tr>\n",
       "    <tr>\n",
       "      <th>2_GTTGTGGGTGGACCGT-1</th>\n",
       "      <td>ISG+ memory CD8 T cell</td>\n",
       "      <td>44</td>\n",
       "      <td>GZMB- CD27- EM CD4 T cell</td>\n",
       "    </tr>\n",
       "  </tbody>\n",
       "</table>\n",
       "<p>31803 rows × 3 columns</p>\n",
       "</div>"
      ],
      "text/plain": [
       "                               predicted_labels over_clustering  \\\n",
       "1_AAACCAAAGACCCGCA-1            Memory CD4 Treg             131   \n",
       "1_AAACCAAAGCATAATC-1            Memory CD4 Treg              68   \n",
       "1_AAACCAGCAAACCTTA-1              CM CD4 T cell              10   \n",
       "1_AAACCAGCAGTCGGAG-1  GZMB- CD27- EM CD4 T cell             141   \n",
       "1_AAACCATTCATAACAC-1            Memory CD4 Treg               2   \n",
       "...                                         ...             ...   \n",
       "2_GTTGTGGGTAAGCGCC-1            Memory CD4 Treg              13   \n",
       "2_GTTGTGGGTACATCCC-1     ISG+ memory CD8 T cell              97   \n",
       "2_GTTGTGGGTATGCTCC-1     KLRB1+ memory CD4 Treg              50   \n",
       "2_GTTGTGGGTCTGCGCC-1      ISG+ naive CD4 T cell              85   \n",
       "2_GTTGTGGGTGGACCGT-1     ISG+ memory CD8 T cell              44   \n",
       "\n",
       "                                majority_voting  \n",
       "1_AAACCAAAGACCCGCA-1     ISG+ memory CD4 T cell  \n",
       "1_AAACCAAAGCATAATC-1  GZMB- CD27- EM CD4 T cell  \n",
       "1_AAACCAGCAAACCTTA-1              CM CD4 T cell  \n",
       "1_AAACCAGCAGTCGGAG-1  GZMB- CD27- EM CD4 T cell  \n",
       "1_AAACCATTCATAACAC-1  GZMB- CD27- EM CD4 T cell  \n",
       "...                                         ...  \n",
       "2_GTTGTGGGTAAGCGCC-1     KLRB1+ memory CD4 Treg  \n",
       "2_GTTGTGGGTACATCCC-1     ISG+ memory CD4 T cell  \n",
       "2_GTTGTGGGTATGCTCC-1            Memory CD4 Treg  \n",
       "2_GTTGTGGGTCTGCGCC-1     ISG+ memory CD4 T cell  \n",
       "2_GTTGTGGGTGGACCGT-1  GZMB- CD27- EM CD4 T cell  \n",
       "\n",
       "[31803 rows x 3 columns]"
      ]
     },
     "execution_count": 11,
     "metadata": {},
     "output_type": "execute_result"
    }
   ],
   "source": [
    "predictions.predicted_labels"
   ]
  },
  {
   "cell_type": "code",
   "execution_count": 12,
   "id": "4fea5afd",
   "metadata": {},
   "outputs": [],
   "source": [
    "adataWithPred = predictions.to_adata()"
   ]
  },
  {
   "cell_type": "code",
   "execution_count": 13,
   "id": "d0b3e14a",
   "metadata": {},
   "outputs": [],
   "source": [
    "adataWithPred.obs.to_csv('20241220_P589-1_celltypist_L3_predictions.csv')"
   ]
  },
  {
   "cell_type": "code",
   "execution_count": null,
   "id": "bfe37022",
   "metadata": {},
   "outputs": [],
   "source": []
  }
 ],
 "metadata": {
  "kernelspec": {
   "display_name": "base",
   "language": "python",
   "name": "python3"
  },
  "language_info": {
   "codemirror_mode": {
    "name": "ipython",
    "version": 3
   },
   "file_extension": ".py",
   "mimetype": "text/x-python",
   "name": "python",
   "nbconvert_exporter": "python",
   "pygments_lexer": "ipython3",
   "version": "3.11.4"
  }
 },
 "nbformat": 4,
 "nbformat_minor": 5
}
